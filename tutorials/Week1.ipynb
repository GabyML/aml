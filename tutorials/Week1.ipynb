{
 "cells": [
  {
   "cell_type": "markdown",
   "metadata": {},
   "source": [
    "This notebook is intended to introduce you to running ipython notebook and to familiarize you with some basics of numpy, matplotlib, and sklearn, which you'll use extensively in this course. Read through the commands, try making changes, and make sure you understand how the plots below are generated.\n",
    "\n",
    "In your projects, you should focus on making your code as readable as possible. Use lots of comments -- see the code below -- and try to prefer clarity over compact code.\n",
    "\n",
    "You should also familiarize yourself with the various keyboard shortcuts for moving between cells and running cells. Ctrl-ENTER runs a cell, while shift-ENTER runs a cell and advances focus to the next cell."
   ]
  },
  {
   "cell_type": "markdown",
   "metadata": {},
   "source": [
    "The first code cell just contains setup calls -- importing libraries and some other global settings to make things run smoothly."
   ]
  },
  {
   "cell_type": "code",
   "execution_count": 4,
   "metadata": {},
   "outputs": [],
   "source": [
    "# Import a bunch of libraries.\n",
    "import numpy as np\n",
    "import matplotlib.pyplot as plt\n",
    "from sklearn.preprocessing import PolynomialFeatures\n",
    "from sklearn.linear_model import LinearRegression\n",
    "from sklearn.pipeline import Pipeline\n",
    "\n",
    "# This tells matplotlib not to try opening a new window for each plot.\n",
    "%matplotlib inline"
   ]
  },
  {
   "cell_type": "markdown",
   "metadata": {},
   "source": [
    "Start by setting the randomizer seed so results are the same each time. We'll use a random number generator later."
   ]
  },
  {
   "cell_type": "code",
   "execution_count": 5,
   "metadata": {},
   "outputs": [],
   "source": [
    "np.random.seed(100)"
   ]
  },
  {
   "cell_type": "markdown",
   "metadata": {},
   "source": [
    "Generate evenly spaced X values in [0,1] using linspace.\n",
    "X is a numpy array, in particular a multi-dimensional \"ndarray\".\n",
    "Try looking at the documentation for ndarray:\n",
    "http://docs.scipy.org/doc/numpy/reference/arrays.ndarray.html"
   ]
  },
  {
   "cell_type": "code",
   "execution_count": 8,
   "metadata": {},
   "outputs": [
    {
     "name": "stdout",
     "output_type": "stream",
     "text": [
      "[0.         0.01010101 0.02020202 0.03030303 0.04040404 0.05050505\n",
      " 0.06060606 0.07070707 0.08080808 0.09090909 0.1010101  0.11111111\n",
      " 0.12121212 0.13131313 0.14141414 0.15151515 0.16161616 0.17171717\n",
      " 0.18181818 0.19191919 0.2020202  0.21212121 0.22222222 0.23232323\n",
      " 0.24242424 0.25252525 0.26262626 0.27272727 0.28282828 0.29292929\n",
      " 0.3030303  0.31313131 0.32323232 0.33333333 0.34343434 0.35353535\n",
      " 0.36363636 0.37373737 0.38383838 0.39393939 0.4040404  0.41414141\n",
      " 0.42424242 0.43434343 0.44444444 0.45454545 0.46464646 0.47474747\n",
      " 0.48484848 0.49494949 0.50505051 0.51515152 0.52525253 0.53535354\n",
      " 0.54545455 0.55555556 0.56565657 0.57575758 0.58585859 0.5959596\n",
      " 0.60606061 0.61616162 0.62626263 0.63636364 0.64646465 0.65656566\n",
      " 0.66666667 0.67676768 0.68686869 0.6969697  0.70707071 0.71717172\n",
      " 0.72727273 0.73737374 0.74747475 0.75757576 0.76767677 0.77777778\n",
      " 0.78787879 0.7979798  0.80808081 0.81818182 0.82828283 0.83838384\n",
      " 0.84848485 0.85858586 0.86868687 0.87878788 0.88888889 0.8989899\n",
      " 0.90909091 0.91919192 0.92929293 0.93939394 0.94949495 0.95959596\n",
      " 0.96969697 0.97979798 0.98989899 1.        ]\n",
      "<type 'numpy.ndarray'>\n",
      "(100,)\n"
     ]
    }
   ],
   "source": [
    "# How many samples to generate. Try adjusting this value.\n",
    "n_samples = 100\n",
    "\n",
    "X = np.linspace(0, 1, n_samples)\n",
    "\n",
    "# Inspect X.\n",
    "print(X)\n",
    "print(type(X))\n",
    "print(X.shape)"
   ]
  },
  {
   "cell_type": "markdown",
   "metadata": {},
   "source": [
    "Let's create a \"true\" function that we will try to approximate with a model, below. We'll use python's lambda syntax, which makes it easy to define a simple function in a single line. See here for more details:\n",
    "\n",
    "http://www.python-course.eu/lambda.php\n"
   ]
  },
  {
   "cell_type": "code",
   "execution_count": 10,
   "metadata": {},
   "outputs": [
    {
     "name": "stdout",
     "output_type": "stream",
     "text": [
      "1.0\n",
      "-0.7071067811865475\n",
      "[ 1.         -0.70710678]\n",
      "[ 1.00000000e+00  9.98867339e-01  9.95471923e-01  9.89821442e-01\n",
      "  9.81928697e-01  9.71811568e-01  9.59492974e-01  9.45000819e-01\n",
      "  9.28367933e-01  9.09631995e-01  8.88835449e-01  8.66025404e-01\n",
      "  8.41253533e-01  8.14575952e-01  7.86053095e-01  7.55749574e-01\n",
      "  7.23734038e-01  6.90079011e-01  6.54860734e-01  6.18158986e-01\n",
      "  5.80056910e-01  5.40640817e-01  5.00000000e-01  4.58226522e-01\n",
      "  4.15415013e-01  3.71662456e-01  3.27067963e-01  2.81732557e-01\n",
      "  2.35758936e-01  1.89251244e-01  1.42314838e-01  9.50560433e-02\n",
      "  4.75819158e-02 -1.60812265e-16 -4.75819158e-02 -9.50560433e-02\n",
      " -1.42314838e-01 -1.89251244e-01 -2.35758936e-01 -2.81732557e-01\n",
      " -3.27067963e-01 -3.71662456e-01 -4.15415013e-01 -4.58226522e-01\n",
      " -5.00000000e-01 -5.40640817e-01 -5.80056910e-01 -6.18158986e-01\n",
      " -6.54860734e-01 -6.90079011e-01 -7.23734038e-01 -7.55749574e-01\n",
      " -7.86053095e-01 -8.14575952e-01 -8.41253533e-01 -8.66025404e-01\n",
      " -8.88835449e-01 -9.09631995e-01 -9.28367933e-01 -9.45000819e-01\n",
      " -9.59492974e-01 -9.71811568e-01 -9.81928697e-01 -9.89821442e-01\n",
      " -9.95471923e-01 -9.98867339e-01 -1.00000000e+00 -9.98867339e-01\n",
      " -9.95471923e-01 -9.89821442e-01 -9.81928697e-01 -9.71811568e-01\n",
      " -9.59492974e-01 -9.45000819e-01 -9.28367933e-01 -9.09631995e-01\n",
      " -8.88835449e-01 -8.66025404e-01 -8.41253533e-01 -8.14575952e-01\n",
      " -7.86053095e-01 -7.55749574e-01 -7.23734038e-01 -6.90079011e-01\n",
      " -6.54860734e-01 -6.18158986e-01 -5.80056910e-01 -5.40640817e-01\n",
      " -5.00000000e-01 -4.58226522e-01 -4.15415013e-01 -3.71662456e-01\n",
      " -3.27067963e-01 -2.81732557e-01 -2.35758936e-01 -1.89251244e-01\n",
      " -1.42314838e-01 -9.50560433e-02 -4.75819158e-02 -1.83697020e-16]\n"
     ]
    }
   ],
   "source": [
    "# Set the true function as a piece of a cosine curve.\n",
    "true_function = lambda x: np.cos(1.5 * np.pi * x)\n",
    "\n",
    "# Try it out. Notice that you can apply the function to a scalar or an array.\n",
    "print(true_function(0))\n",
    "print(true_function(0.5))\n",
    "print(true_function(np.array([0, 0.5])))\n",
    "print(true_function(X))"
   ]
  },
  {
   "cell_type": "markdown",
   "metadata": {},
   "source": [
    "Now, let's generate noisy observations of our true function. This simulates something like the situation we encounter in the real world: we observe noisy data from which we'd like to infer a model."
   ]
  },
  {
   "cell_type": "code",
   "execution_count": 21,
   "metadata": {},
   "outputs": [
    {
     "name": "stdout",
     "output_type": "stream",
     "text": [
      "['1.00', '1.00', '1.00', '0.99', '0.98', '0.97', '0.96', '0.95', '0.93', '0.91', '0.89', '0.87', '0.84', '0.81', '0.79', '0.76', '0.72', '0.69', '0.65', '0.62', '0.58', '0.54', '0.50', '0.46', '0.42', '0.37', '0.33', '0.28', '0.24', '0.19', '0.14', '0.10', '0.05', '-0.00', '-0.05', '-0.10', '-0.14', '-0.19', '-0.24', '-0.28', '-0.33', '-0.37', '-0.42', '-0.46', '-0.50', '-0.54', '-0.58', '-0.62', '-0.65', '-0.69', '-0.72', '-0.76', '-0.79', '-0.81', '-0.84', '-0.87', '-0.89', '-0.91', '-0.93', '-0.95', '-0.96', '-0.97', '-0.98', '-0.99', '-1.00', '-1.00', '-1.00', '-1.00', '-1.00', '-0.99', '-0.98', '-0.97', '-0.96', '-0.95', '-0.93', '-0.91', '-0.89', '-0.87', '-0.84', '-0.81', '-0.79', '-0.76', '-0.72', '-0.69', '-0.65', '-0.62', '-0.58', '-0.54', '-0.50', '-0.46', '-0.42', '-0.37', '-0.33', '-0.28', '-0.24', '-0.19', '-0.14', '-0.10', '-0.05', '-0.00']\n",
      "['0.96', '0.86', '1.02', '0.96', '1.20', '0.85', '1.17', '0.79', '1.25', '1.26', '0.89', '0.73', '1.24', '0.57', '0.56', '1.26', '0.58', '0.74', '0.57', '0.51', '0.72', '0.56', '0.48', '0.30', '0.82', '0.21', '0.58', '0.31', '0.21', '0.20', '0.15', '-0.25', '0.06', '-0.10', '-0.58', '0.03', '-0.17', '-0.03', '-0.28', '-0.42', '-0.24', '-0.54', '-0.50', '-0.18', '-0.38', '-0.59', '-0.51', '-0.39', '-0.51', '-0.42', '-0.76', '-0.75', '-0.96', '-0.53', '-0.88', '-1.07', '-1.03', '-0.66', '-1.15', '-1.07', '-0.91', '-1.18', '-0.66', '-0.97', '-1.11', '-1.03', '-1.03', '-1.18', '-0.94', '-0.93', '-0.92', '-1.10', '-0.98', '-1.13', '-0.91', '-0.81', '-1.34', '-1.15', '-0.72', '-0.84', '-0.89', '-0.93', '-0.68', '-0.82', '-0.50', '-0.83', '-0.63', '-0.16', '-0.61', '-0.41', '-0.36', '-0.29', '-0.65', '-0.29', '-0.38', '-0.16', '-0.16', '-0.07', '-0.25', '-0.05']\n"
     ]
    }
   ],
   "source": [
    "# Generate true y values.\n",
    "y = true_function(X)\n",
    "\n",
    "# Print the values of y to the nearest hundredth.\n",
    "print(['%.2f' %i for i in y])\n",
    "\n",
    "# Add random noise to y.\n",
    "# The randn function samples random numbers from the standard Normal distribution.\n",
    "# Multiplying adjusts the standard deviation of the distribution.\n",
    "y += np.random.randn(n_samples) * 0.2\n",
    "\n",
    "# Print the noise-added values of y for comparison.\n",
    "print(['%.2f' %i for i in y])"
   ]
  },
  {
   "cell_type": "markdown",
   "metadata": {},
   "source": [
    "Ok. Now we have some outputs, y, that we want to predict, and some inputs X. In general, our outputs (in this course) will always be 1-dimensional. Our inputs will usually have more than 1 dimension -- we'll call these our features. But here, for simplicity, we have just a single feature. \n",
    "\n",
    "Since the machine learning classes in sklearn expect input feature vectors, we need to turn each input x in X into a feature vector [x]."
   ]
  },
  {
   "cell_type": "code",
   "execution_count": 22,
   "metadata": {},
   "outputs": [
    {
     "name": "stdout",
     "output_type": "stream",
     "text": [
      "[[0.        ]\n",
      " [0.01010101]\n",
      " [0.02020202]\n",
      " [0.03030303]\n",
      " [0.04040404]\n",
      " [0.05050505]\n",
      " [0.06060606]\n",
      " [0.07070707]\n",
      " [0.08080808]\n",
      " [0.09090909]\n",
      " [0.1010101 ]\n",
      " [0.11111111]\n",
      " [0.12121212]\n",
      " [0.13131313]\n",
      " [0.14141414]\n",
      " [0.15151515]\n",
      " [0.16161616]\n",
      " [0.17171717]\n",
      " [0.18181818]\n",
      " [0.19191919]\n",
      " [0.2020202 ]\n",
      " [0.21212121]\n",
      " [0.22222222]\n",
      " [0.23232323]\n",
      " [0.24242424]\n",
      " [0.25252525]\n",
      " [0.26262626]\n",
      " [0.27272727]\n",
      " [0.28282828]\n",
      " [0.29292929]\n",
      " [0.3030303 ]\n",
      " [0.31313131]\n",
      " [0.32323232]\n",
      " [0.33333333]\n",
      " [0.34343434]\n",
      " [0.35353535]\n",
      " [0.36363636]\n",
      " [0.37373737]\n",
      " [0.38383838]\n",
      " [0.39393939]\n",
      " [0.4040404 ]\n",
      " [0.41414141]\n",
      " [0.42424242]\n",
      " [0.43434343]\n",
      " [0.44444444]\n",
      " [0.45454545]\n",
      " [0.46464646]\n",
      " [0.47474747]\n",
      " [0.48484848]\n",
      " [0.49494949]\n",
      " [0.50505051]\n",
      " [0.51515152]\n",
      " [0.52525253]\n",
      " [0.53535354]\n",
      " [0.54545455]\n",
      " [0.55555556]\n",
      " [0.56565657]\n",
      " [0.57575758]\n",
      " [0.58585859]\n",
      " [0.5959596 ]\n",
      " [0.60606061]\n",
      " [0.61616162]\n",
      " [0.62626263]\n",
      " [0.63636364]\n",
      " [0.64646465]\n",
      " [0.65656566]\n",
      " [0.66666667]\n",
      " [0.67676768]\n",
      " [0.68686869]\n",
      " [0.6969697 ]\n",
      " [0.70707071]\n",
      " [0.71717172]\n",
      " [0.72727273]\n",
      " [0.73737374]\n",
      " [0.74747475]\n",
      " [0.75757576]\n",
      " [0.76767677]\n",
      " [0.77777778]\n",
      " [0.78787879]\n",
      " [0.7979798 ]\n",
      " [0.80808081]\n",
      " [0.81818182]\n",
      " [0.82828283]\n",
      " [0.83838384]\n",
      " [0.84848485]\n",
      " [0.85858586]\n",
      " [0.86868687]\n",
      " [0.87878788]\n",
      " [0.88888889]\n",
      " [0.8989899 ]\n",
      " [0.90909091]\n",
      " [0.91919192]\n",
      " [0.92929293]\n",
      " [0.93939394]\n",
      " [0.94949495]\n",
      " [0.95959596]\n",
      " [0.96969697]\n",
      " [0.97979798]\n",
      " [0.98989899]\n",
      " [1.        ]]\n"
     ]
    }
   ],
   "source": [
    "# Another way to do this is np.transpose([X]). Read more about array indexing for details.\n",
    "X = X[:, np.newaxis]\n",
    "print(X)"
   ]
  },
  {
   "cell_type": "markdown",
   "metadata": {},
   "source": [
    "Since you're already familiar with linear regression, let's try that first. Check out the sklearn documentation for linear regression:\n",
    "\n",
    "http://scikit-learn.org/stable/modules/generated/sklearn.linear_model.LinearRegression.html"
   ]
  },
  {
   "cell_type": "code",
   "execution_count": 23,
   "metadata": {},
   "outputs": [
    {
     "name": "stdout",
     "output_type": "stream",
     "text": [
      "0.7293522258121454\n",
      "[-1.88528182]\n",
      "Estimated function: y = 0.73 + -1.89x\n"
     ]
    }
   ],
   "source": [
    "# Try setting fit_intercept=False as well.\n",
    "lr = LinearRegression(fit_intercept=True)\n",
    "lr.fit(X, y)\n",
    "print(lr.intercept_)\n",
    "print(lr.coef_)\n",
    "print('Estimated function: y = %.2f + %.2fx' %(lr.intercept_, lr.coef_[0]))"
   ]
  },
  {
   "cell_type": "markdown",
   "metadata": {},
   "source": [
    "Approximating a cosine function with a linear model doesn't work so well. By adding polynomial transformations of our feature(s), we can fit more complex functions. This is often called polynomial regression. Take a look at the sklearn documentation for the PolynomialFeatures preprocessor:\n",
    "\n",
    "http://scikit-learn.org/stable/modules/generated/sklearn.preprocessing.PolynomialFeatures.html\n",
    "\n",
    "You'll notice that the sklearn classes have many of the same function names like fit() and fit_transform()."
   ]
  },
  {
   "cell_type": "code",
   "execution_count": 24,
   "metadata": {},
   "outputs": [
    {
     "name": "stdout",
     "output_type": "stream",
     "text": [
      "[[0.00000000e+00 0.00000000e+00]\n",
      " [1.01010101e-02 1.02030405e-04]\n",
      " [2.02020202e-02 4.08121620e-04]\n",
      " [3.03030303e-02 9.18273646e-04]\n",
      " [4.04040404e-02 1.63248648e-03]\n",
      " [5.05050505e-02 2.55076013e-03]\n",
      " [6.06060606e-02 3.67309458e-03]\n",
      " [7.07070707e-02 4.99948985e-03]\n",
      " [8.08080808e-02 6.52994592e-03]\n",
      " [9.09090909e-02 8.26446281e-03]\n",
      " [1.01010101e-01 1.02030405e-02]\n",
      " [1.11111111e-01 1.23456790e-02]\n",
      " [1.21212121e-01 1.46923783e-02]\n",
      " [1.31313131e-01 1.72431385e-02]\n",
      " [1.41414141e-01 1.99979594e-02]\n",
      " [1.51515152e-01 2.29568411e-02]\n",
      " [1.61616162e-01 2.61197837e-02]\n",
      " [1.71717172e-01 2.94867871e-02]\n",
      " [1.81818182e-01 3.30578512e-02]\n",
      " [1.91919192e-01 3.68329762e-02]\n",
      " [2.02020202e-01 4.08121620e-02]\n",
      " [2.12121212e-01 4.49954086e-02]\n",
      " [2.22222222e-01 4.93827160e-02]\n",
      " [2.32323232e-01 5.39740843e-02]\n",
      " [2.42424242e-01 5.87695133e-02]\n",
      " [2.52525253e-01 6.37690032e-02]\n",
      " [2.62626263e-01 6.89725538e-02]\n",
      " [2.72727273e-01 7.43801653e-02]\n",
      " [2.82828283e-01 7.99918376e-02]\n",
      " [2.92929293e-01 8.58075707e-02]\n",
      " [3.03030303e-01 9.18273646e-02]\n",
      " [3.13131313e-01 9.80512193e-02]\n",
      " [3.23232323e-01 1.04479135e-01]\n",
      " [3.33333333e-01 1.11111111e-01]\n",
      " [3.43434343e-01 1.17947148e-01]\n",
      " [3.53535354e-01 1.24987246e-01]\n",
      " [3.63636364e-01 1.32231405e-01]\n",
      " [3.73737374e-01 1.39679625e-01]\n",
      " [3.83838384e-01 1.47331905e-01]\n",
      " [3.93939394e-01 1.55188246e-01]\n",
      " [4.04040404e-01 1.63248648e-01]\n",
      " [4.14141414e-01 1.71513111e-01]\n",
      " [4.24242424e-01 1.79981635e-01]\n",
      " [4.34343434e-01 1.88654219e-01]\n",
      " [4.44444444e-01 1.97530864e-01]\n",
      " [4.54545455e-01 2.06611570e-01]\n",
      " [4.64646465e-01 2.15896337e-01]\n",
      " [4.74747475e-01 2.25385165e-01]\n",
      " [4.84848485e-01 2.35078053e-01]\n",
      " [4.94949495e-01 2.44975003e-01]\n",
      " [5.05050505e-01 2.55076013e-01]\n",
      " [5.15151515e-01 2.65381084e-01]\n",
      " [5.25252525e-01 2.75890215e-01]\n",
      " [5.35353535e-01 2.86603408e-01]\n",
      " [5.45454545e-01 2.97520661e-01]\n",
      " [5.55555556e-01 3.08641975e-01]\n",
      " [5.65656566e-01 3.19967350e-01]\n",
      " [5.75757576e-01 3.31496786e-01]\n",
      " [5.85858586e-01 3.43230283e-01]\n",
      " [5.95959596e-01 3.55167840e-01]\n",
      " [6.06060606e-01 3.67309458e-01]\n",
      " [6.16161616e-01 3.79655137e-01]\n",
      " [6.26262626e-01 3.92204877e-01]\n",
      " [6.36363636e-01 4.04958678e-01]\n",
      " [6.46464646e-01 4.17916539e-01]\n",
      " [6.56565657e-01 4.31078461e-01]\n",
      " [6.66666667e-01 4.44444444e-01]\n",
      " [6.76767677e-01 4.58014488e-01]\n",
      " [6.86868687e-01 4.71788593e-01]\n",
      " [6.96969697e-01 4.85766758e-01]\n",
      " [7.07070707e-01 4.99948985e-01]\n",
      " [7.17171717e-01 5.14335272e-01]\n",
      " [7.27272727e-01 5.28925620e-01]\n",
      " [7.37373737e-01 5.43720029e-01]\n",
      " [7.47474747e-01 5.58718498e-01]\n",
      " [7.57575758e-01 5.73921028e-01]\n",
      " [7.67676768e-01 5.89327620e-01]\n",
      " [7.77777778e-01 6.04938272e-01]\n",
      " [7.87878788e-01 6.20752984e-01]\n",
      " [7.97979798e-01 6.36771758e-01]\n",
      " [8.08080808e-01 6.52994592e-01]\n",
      " [8.18181818e-01 6.69421488e-01]\n",
      " [8.28282828e-01 6.86052444e-01]\n",
      " [8.38383838e-01 7.02887460e-01]\n",
      " [8.48484848e-01 7.19926538e-01]\n",
      " [8.58585859e-01 7.37169677e-01]\n",
      " [8.68686869e-01 7.54616876e-01]\n",
      " [8.78787879e-01 7.72268136e-01]\n",
      " [8.88888889e-01 7.90123457e-01]\n",
      " [8.98989899e-01 8.08182838e-01]\n",
      " [9.09090909e-01 8.26446281e-01]\n",
      " [9.19191919e-01 8.44913784e-01]\n",
      " [9.29292929e-01 8.63585348e-01]\n",
      " [9.39393939e-01 8.82460973e-01]\n",
      " [9.49494949e-01 9.01540659e-01]\n",
      " [9.59595960e-01 9.20824406e-01]\n",
      " [9.69696970e-01 9.40312213e-01]\n",
      " [9.79797980e-01 9.60004081e-01]\n",
      " [9.89898990e-01 9.79900010e-01]\n",
      " [1.00000000e+00 1.00000000e+00]]\n"
     ]
    }
   ],
   "source": [
    "# Try increasing the degree past 2.\n",
    "poly = PolynomialFeatures(degree=2, include_bias=False)\n",
    "X2 = poly.fit_transform(X)\n",
    "print(X2)"
   ]
  },
  {
   "cell_type": "markdown",
   "metadata": {},
   "source": [
    "Now let's fit a linear model where the input features are (x, x^2)."
   ]
  },
  {
   "cell_type": "code",
   "execution_count": 25,
   "metadata": {},
   "outputs": [
    {
     "name": "stdout",
     "output_type": "stream",
     "text": [
      "1.5778242248693977\n",
      "[-7.02806108  5.14277926]\n",
      "Estimated function: y = 1.58 + -7.03x0 + 5.14x1\n"
     ]
    }
   ],
   "source": [
    "lr = LinearRegression(fit_intercept=True)\n",
    "lr.fit(X2, y)\n",
    "print (lr.intercept_)\n",
    "print (lr.coef_)\n",
    "print ('Estimated function: y = %.2f + %.2fx0 + %.2fx1' %(lr.intercept_, lr.coef_[0], lr.coef_[1]))"
   ]
  },
  {
   "cell_type": "markdown",
   "metadata": {},
   "source": [
    "Let's put everything together and try some plotting. We can use sklearn's Pipeline framework to connect the 2 operations, PolynomialFeatures and LinearRegression, both of which have a fit() method."
   ]
  },
  {
   "cell_type": "code",
   "execution_count": 26,
   "metadata": {
    "scrolled": true
   },
   "outputs": [
    {
     "data": {
      "image/png": "[encoded data removed]",
      "text/plain": [
       "<Figure size 1008x288 with 3 Axes>"
      ]
     },
     "metadata": {},
     "output_type": "display_data"
    }
   ],
   "source": [
    "# Below, we'll fit polynomials to the noisy data with these degrees.\n",
    "degrees = [1, 4, 15]\n",
    "\n",
    "# Initialize a new plot.\n",
    "plt.figure(figsize=(14, 4))\n",
    "\n",
    "# We'll create a subplot for each value of the degrees list.\n",
    "for i in range(len(degrees)):\n",
    "    # The subplots are all on the same row.\n",
    "    ax = plt.subplot(1, len(degrees), i+1)\n",
    "    \n",
    "    # Turn off tick marks to keep things clean.\n",
    "    plt.setp(ax, xticks=(), yticks=())\n",
    "\n",
    "    # Set up the polynomial features preprocessor.\n",
    "    polynomial_features = PolynomialFeatures(degree=degrees[i],\n",
    "                                             include_bias=False)\n",
    "\n",
    "    # Use the sklearn's Pipeline to string together 2 operations.\n",
    "    linear_regression = LinearRegression()\n",
    "    pipeline = Pipeline([(\"polynomial_features\", polynomial_features),\n",
    "                         (\"linear_regression\", linear_regression)])\n",
    "\n",
    "    pipeline.fit(X, y)\n",
    "    \n",
    "    # Show samples from the fitted function.\n",
    "    X_test = np.linspace(0, 1, 100)\n",
    "    plt.plot(X_test, pipeline.predict(X_test[:, np.newaxis]), label=\"Model\")\n",
    "\n",
    "    # Show the true function.\n",
    "    plt.plot(X_test, true_function(X_test), label=\"True function\")\n",
    "\n",
    "    # Show the original noisy samples.\n",
    "    plt.scatter(X, y, label=\"Samples\")\n",
    "\n",
    "    # Add a few more labels to the plot.\n",
    "    plt.xlabel(\"x\")\n",
    "    plt.ylabel(\"y\")\n",
    "    plt.xlim((-.05, 1.05))\n",
    "    plt.ylim((-2, 2))\n",
    "    plt.legend(loc=\"best\")\n",
    "    plt.title(\"Degree %d\" % degrees[i])\n",
    "\n",
    "# Render the plots.\n",
    "plt.show()"
   ]
  },
  {
   "cell_type": "markdown",
   "metadata": {},
   "source": [
    "The machine learning lesson here is that we are interested in the smallest model that fits our data the best. Clearly, the degree 1 model, while very small (only 2 parameters), doesn't fit the observed data well. The degree 15 model fits the observed data extremely well, but is unlikely to generalize to new data. This is a case of \"over-fitting\", which often happens when we try to estimate too many parameters from just a few examples. The degree 4 model appears to be a good blend of small model size and good generalization."
   ]
  },
  {
   "cell_type": "code",
   "execution_count": null,
   "metadata": {},
   "outputs": [],
   "source": []
  }
 ],
 "metadata": {
  "kernelspec": {
   "display_name": "Python 2",
   "language": "python",
   "name": "python2"
  },
  "language_info": {
   "codemirror_mode": {
    "name": "ipython",
    "version": 2
   },
   "file_extension": ".py",
   "mimetype": "text/x-python",
   "name": "python",
   "nbconvert_exporter": "python",
   "pygments_lexer": "ipython2",
   "version": "2.7.16"
  }
 },
 "nbformat": 4,
 "nbformat_minor": 1
}
